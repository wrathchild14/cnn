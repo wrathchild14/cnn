{
 "cells": [
  {
   "cell_type": "markdown",
   "source": [
    "Note, the data has to be in the current folder, otherwise it won't work."
   ],
   "metadata": {
    "collapsed": false
   }
  },
  {
   "cell_type": "code",
   "execution_count": 11,
   "metadata": {
    "collapsed": true,
    "ExecuteTime": {
     "start_time": "2023-04-04T20:53:07.211147Z",
     "end_time": "2023-04-04T20:53:07.216148Z"
    }
   },
   "outputs": [],
   "source": [
    "import numpy as np\n",
    "from sklearn.metrics import jaccard_score\n",
    "from torch import from_numpy\n",
    "from tqdm import tqdm\n",
    "\n",
    "from segmentation.utils import SegmentationDataset, train\n",
    "import torch\n",
    "from segmentation.resnet_18_fcn import ResNet18FCN\n",
    "from unet import UNet"
   ]
  },
  {
   "cell_type": "code",
   "execution_count": 74,
   "outputs": [
    {
     "name": "stderr",
     "output_type": "stream",
     "text": [
      "0/2: 100%|██████████| 4000/4000 [05:31<00:00, 12.07img/s, loss=0.385]\n",
      "1/2: 100%|██████████| 4000/4000 [05:28<00:00, 12.16img/s, loss=0.182]\n"
     ]
    }
   ],
   "source": [
    "unet = UNet(in_channels=3, out_channels=13)\n",
    "\n",
    "trainset = SegmentationDataset(train=True)\n",
    "trainloader = torch.utils.data.DataLoader(trainset, batch_size=4,\n",
    "                                          shuffle=True, num_workers=4)\n",
    "\n",
    "testset = SegmentationDataset(train=False)\n",
    "testloader = torch.utils.data.DataLoader(testset, batch_size=4,\n",
    "                                         shuffle=False, num_workers=4)\n",
    "train(net=unet, train_data=[trainset, trainloader])"
   ],
   "metadata": {
    "collapsed": false,
    "ExecuteTime": {
     "start_time": "2023-04-04T22:36:22.715614Z",
     "end_time": "2023-04-04T22:47:23.200400Z"
    }
   }
  },
  {
   "cell_type": "code",
   "execution_count": 4,
   "outputs": [],
   "source": [
    "net = ResNet18FCN(in_channels=3, out_channels=13)\n",
    "trainset = SegmentationDataset(train=True)\n",
    "trainloader = torch.utils.data.DataLoader(trainset, batch_size=4,\n",
    "                                          shuffle=True, num_workers=4)\n",
    "\n",
    "testset = SegmentationDataset(train=False)\n",
    "testloader = torch.utils.data.DataLoader(testset, batch_size=4,\n",
    "                                         shuffle=False, num_workers=4)\n",
    "train(net=net, train_data=[trainset, trainloader])"
   ],
   "metadata": {
    "collapsed": false,
    "ExecuteTime": {
     "start_time": "2023-04-04T20:45:33.262457Z",
     "end_time": "2023-04-04T20:45:33.406001Z"
    }
   }
  },
  {
   "cell_type": "markdown",
   "source": [
    "Value of meanIOU metric on the test set for the FCN-32"
   ],
   "metadata": {
    "collapsed": false
   }
  },
  {
   "cell_type": "code",
   "execution_count": 76,
   "outputs": [
    {
     "name": "stderr",
     "output_type": "stream",
     "text": [
      "100%|██████████| 1000/1000 [00:33<00:00, 29.58it/s]\n",
      "100%|██████████| 1000/1000 [00:32<00:00, 30.66it/s]\n"
     ]
    },
    {
     "data": {
      "text/plain": "0.4150983204258001"
     },
     "execution_count": 76,
     "metadata": {},
     "output_type": "execute_result"
    }
   ],
   "source": [
    "actual, predicted = [], []\n",
    "for i in tqdm(range(len(testset))):\n",
    "    batch = testset[i]\n",
    "    img = batch['image']\n",
    "    labels = batch['mask']\n",
    "    img_tensor = from_numpy(img).cuda()\n",
    "    img_tensor = img_tensor.unsqueeze(0)\n",
    "    outputs = net(img_tensor)\n",
    "    out_image = outputs[0, :, :, :].detach().cpu().numpy()\n",
    "    seg_mask = np.argmax(out_image, axis=0)\n",
    "\n",
    "    actual.append(np.asarray(labels[0, :, :]).flatten())\n",
    "    predicted.append(seg_mask.flatten())\n",
    "\n",
    "np.mean([jaccard_score(predicted[i], actual[i], average='macro') for i in tqdm(range(len(predicted)))])"
   ],
   "metadata": {
    "collapsed": false,
    "ExecuteTime": {
     "start_time": "2023-04-04T22:49:10.972298Z",
     "end_time": "2023-04-04T22:50:17.415241Z"
    }
   }
  },
  {
   "cell_type": "markdown",
   "source": [
    "Value of meanIOU metric on the test set for the U-Net"
   ],
   "metadata": {
    "collapsed": false
   }
  },
  {
   "cell_type": "code",
   "execution_count": 75,
   "outputs": [
    {
     "name": "stderr",
     "output_type": "stream",
     "text": [
      "100%|██████████| 1000/1000 [00:49<00:00, 20.22it/s]\n",
      "100%|██████████| 1000/1000 [00:19<00:00, 52.15it/s]\n"
     ]
    },
    {
     "data": {
      "text/plain": "0.5120416028745854"
     },
     "execution_count": 75,
     "metadata": {},
     "output_type": "execute_result"
    }
   ],
   "source": [
    "actual, predicted = [], []\n",
    "for i in tqdm(range(len(testset))):\n",
    "    batch = testset[i]\n",
    "    img = batch['image']\n",
    "    labels = batch['mask']\n",
    "    img_tensor = from_numpy(img).cuda()\n",
    "    img_tensor = img_tensor.unsqueeze(0)\n",
    "    outputs = unet(img_tensor)\n",
    "    out_image = outputs[0, :, :, :].detach().cpu().numpy()\n",
    "    seg_mask = np.argmax(out_image, axis=0)\n",
    "\n",
    "    actual.append(np.asarray(labels[0, :, :]).flatten())\n",
    "    predicted.append(seg_mask.flatten())\n",
    "\n",
    "np.mean([jaccard_score(predicted[i], actual[i], average='macro') for i in tqdm(range(len(predicted)))])"
   ],
   "metadata": {
    "collapsed": false,
    "ExecuteTime": {
     "start_time": "2023-04-04T22:47:39.063658Z",
     "end_time": "2023-04-04T22:48:47.697054Z"
    }
   }
  }
 ],
 "metadata": {
  "kernelspec": {
   "display_name": "Python 3",
   "language": "python",
   "name": "python3"
  },
  "language_info": {
   "codemirror_mode": {
    "name": "ipython",
    "version": 2
   },
   "file_extension": ".py",
   "mimetype": "text/x-python",
   "name": "python",
   "nbconvert_exporter": "python",
   "pygments_lexer": "ipython2",
   "version": "2.7.6"
  }
 },
 "nbformat": 4,
 "nbformat_minor": 0
}
